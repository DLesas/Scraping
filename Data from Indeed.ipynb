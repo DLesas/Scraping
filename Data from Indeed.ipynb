{
 "cells": [
  {
   "cell_type": "code",
   "execution_count": 12,
   "metadata": {
    "ExecuteTime": {
     "end_time": "2021-04-25T08:20:53.276547Z",
     "start_time": "2021-04-25T08:20:53.260547Z"
    }
   },
   "outputs": [],
   "source": [
    "from selenium import webdriver\n",
    "from fake_useragent import UserAgent\n",
    "from proxy import Proxy\n",
    "import os\n",
    "\n",
    "def make_driver():\n",
    "\n",
    "    proxy = Proxy()\n",
    "    print('adding a proxy')\n",
    "    while proxy.test_proxy(proxy.proxy) != 1:\n",
    "        proxy.cycle()\n",
    "        print(f\"Trying new proxy at: {proxy.proxy['http']}\")\n",
    "    prox = proxy.proxy['http'].split('//')[1]\n",
    "    options = webdriver.ChromeOptions() \n",
    "    userAgent = UserAgent().random\n",
    "    options.add_argument(\"start-maximized\")\n",
    "    options.add_argument('--proxy-server=%s' % prox)\n",
    "    options.add_argument(f'user-agent={userAgent}')\n",
    "    options.add_experimental_option(\"excludeSwitches\", [\"enable-automation\"])\n",
    "    options.add_experimental_option('useAutomationExtension', False)\n",
    "    driver = webdriver.Chrome(options=options, executable_path= os.path.join('Z:/python/News_Web_Crawler/Crawlers/Utils', \"chromedriver.exe\"))\n",
    "    driver.execute_cdp_cmd(\"Page.addScriptToEvaluateOnNewDocument\", {\n",
    "        \"source\": \"\"\"\n",
    "        Object.defineProperty(navigator, 'webdriver', {\n",
    "            get: () => undefined\n",
    "        })\n",
    "        \"\"\"\n",
    "    })\n",
    "    return driver"
   ]
  },
  {
   "cell_type": "code",
   "execution_count": 13,
   "metadata": {
    "ExecuteTime": {
     "end_time": "2021-04-25T08:20:53.615685Z",
     "start_time": "2021-04-25T08:20:53.607684Z"
    }
   },
   "outputs": [],
   "source": [
    "import pandas as pd\n",
    "import time\n",
    "from selenium.webdriver.support.ui import WebDriverWait\n",
    "from selenium.webdriver.common.by import By\n",
    "from selenium.webdriver.support import expected_conditions as EC\n",
    "from selenium.webdriver.support.ui import Select"
   ]
  },
  {
   "cell_type": "code",
   "execution_count": 14,
   "metadata": {
    "ExecuteTime": {
     "end_time": "2021-04-25T08:20:53.951772Z",
     "start_time": "2021-04-25T08:20:53.935765Z"
    }
   },
   "outputs": [],
   "source": [
    "Jobsearch = \"Data scientist\"\n",
    "Where = \"London \"\n",
    "daysfilter = \"24hours\""
   ]
  },
  {
   "cell_type": "code",
   "execution_count": null,
   "metadata": {
    "ExecuteTime": {
     "start_time": "2021-04-25T08:34:11.036Z"
    }
   },
   "outputs": [
    {
     "name": "stdout",
     "output_type": "stream",
     "text": [
      "adding a proxy\n",
      "Trying new proxy at: http://109.105.205.232:59152\n"
     ]
    }
   ],
   "source": [
    "driver = make_driver()\n",
    "driver.get(\"https://uk.indeed.com/\")\n",
    "driver.find_element_by_xpath('//*[@id=\"text-input-what\"]').send_keys(Jobsearch)\n",
    "driver.find_element_by_xpath('//*[@id=\"text-input-where\"]').send_keys(Where)\n",
    "driver.find_element_by_xpath('//*[@id=\"whatWhereFormId\"]/div[3]/button').click()\n",
    "driver.find_element_by_xpath('//*[@id=\"filter-dateposted\"]/button').click()\n",
    "if len(daysfilter) > 1:\n",
    "    if daysfilter == '24hours':\n",
    "        driver.find_element_by_xpath('//*[@id=\"filter-dateposted-menu\"]/li[1]/a').click()\n",
    "    elif daysfilter == '3days':\n",
    "        driver.find_element_by_xpath('//*[@id=\"filter-dateposted-menu\"]/li[2]/a').click()\n",
    "    elif daysfilter == '7days':\n",
    "        driver.find_element_by_xpath('//*[@id=\"filter-dateposted-menu\"]/li[3]/a').click()\n",
    "    elif daysfiltr == '14days':\n",
    "        driver.find_element_by_xpath('//*[@id=\"filter-dateposted-menu\"]/li[4]/a').click()\n",
    "    try:\n",
    "        time.sleep(1)\n",
    "        WebDriverWait(driver, 5).until(EC.presence_of_element_located((By.XPATH, '//*[@id=\"onetrust-pc-btn-handler\"]'))).click()\n",
    "        WebDriverWait(driver, 5).until(EC.presence_of_element_located((By.XPATH, '//*[@id=\"cookie-preferences\"]/div[5]/button'))).click()\n",
    "        element = WebDriverWait(driver, 10).until(EC.presence_of_element_located((By.ID, 'popover-x')))\n",
    "        element.click()\n",
    "    except:\n",
    "        print('could not find pop over')\n",
    "\n",
    "def scrape_indeed():\n",
    "    el = driver.find_elements_by_class_name('title')\n",
    "    predf = {'Title': [], 'Company': [], 'Location' : [], 'Money' : [], 'Description' : []}\n",
    "    for i in el:\n",
    "        i.click()\n",
    "        predf['Title'].append(WebDriverWait(driver, 30).until(EC.presence_of_element_located((By.ID, 'vjs-jobtitle'))).text)\n",
    "        predf['Company'].append(WebDriverWait(driver, 10).until(EC.presence_of_element_located((By.XPATH, '//*[@id=\"vjs-cn\"]'))).text)\n",
    "        predf['Location'].append(WebDriverWait(driver, 10).until(EC.presence_of_element_located((By.XPATH, '//*[@id=\"vjs-loc\"]'))).text)\n",
    "        try:\n",
    "            predf['Money'].append(driver.find_element_by_xpath('//*[@id=\"vjs-jobinfo\"]/div[3]').text)\n",
    "        except:\n",
    "            predf['Money'].append(0)\n",
    "        predf['Description'].append(driver.find_element_by_xpath('//*[@id=\"vjs-desc\"]').text)\n",
    "\n",
    "    return pd.DataFrame(predf)\n",
    "\n",
    "    \n",
    "dataframes = []\n",
    "try:\n",
    "    while True:\n",
    "        dataframes.append(scrape_indeed())\n",
    "        driver.find_element_by_xpath('//*[@id=\"resultsCol\"]/nav/div/ul/li[4]/a').click()\n",
    "except Exception as e:\n",
    "    print(e)\n",
    "    df = pd.concat(dataframes)  \n",
    "df"
   ]
  },
  {
   "cell_type": "code",
   "execution_count": 22,
   "metadata": {
    "ExecuteTime": {
     "end_time": "2021-04-25T08:33:52.325263Z",
     "start_time": "2021-04-25T08:33:52.301261Z"
    }
   },
   "outputs": [
    {
     "data": {
      "text/html": [
       "<div>\n",
       "<style scoped>\n",
       "    .dataframe tbody tr th:only-of-type {\n",
       "        vertical-align: middle;\n",
       "    }\n",
       "\n",
       "    .dataframe tbody tr th {\n",
       "        vertical-align: top;\n",
       "    }\n",
       "\n",
       "    .dataframe thead th {\n",
       "        text-align: right;\n",
       "    }\n",
       "</style>\n",
       "<table border=\"1\" class=\"dataframe\">\n",
       "  <thead>\n",
       "    <tr style=\"text-align: right;\">\n",
       "      <th></th>\n",
       "      <th>Title</th>\n",
       "      <th>Company</th>\n",
       "      <th>Location</th>\n",
       "      <th>Money</th>\n",
       "      <th>Description</th>\n",
       "    </tr>\n",
       "  </thead>\n",
       "  <tbody>\n",
       "    <tr>\n",
       "      <th>0</th>\n",
       "      <td>Data Scientist (Contract) - Experimentation</td>\n",
       "      <td>Harnham</td>\n",
       "      <td>- London</td>\n",
       "      <td>£500 - £600 a day - Contract - Remote</td>\n",
       "      <td>Harnham are partnered with a UK based technolo...</td>\n",
       "    </tr>\n",
       "  </tbody>\n",
       "</table>\n",
       "</div>"
      ],
      "text/plain": [
       "                                         Title  Company  Location  \\\n",
       "0  Data Scientist (Contract) - Experimentation  Harnham  - London   \n",
       "\n",
       "                                   Money  \\\n",
       "0  £500 - £600 a day - Contract - Remote   \n",
       "\n",
       "                                         Description  \n",
       "0  Harnham are partnered with a UK based technolo...  "
      ]
     },
     "execution_count": 22,
     "metadata": {},
     "output_type": "execute_result"
    }
   ],
   "source": [
    "df"
   ]
  },
  {
   "cell_type": "code",
   "execution_count": null,
   "metadata": {},
   "outputs": [],
   "source": []
  }
 ],
 "metadata": {
  "kernelspec": {
   "display_name": "Python 3",
   "language": "python",
   "name": "python3"
  },
  "language_info": {
   "codemirror_mode": {
    "name": "ipython",
    "version": 3
   },
   "file_extension": ".py",
   "mimetype": "text/x-python",
   "name": "python",
   "nbconvert_exporter": "python",
   "pygments_lexer": "ipython3",
   "version": "3.7.9"
  }
 },
 "nbformat": 4,
 "nbformat_minor": 4
}
